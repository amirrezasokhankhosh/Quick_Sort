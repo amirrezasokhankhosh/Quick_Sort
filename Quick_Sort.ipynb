{
  "nbformat": 4,
  "nbformat_minor": 0,
  "metadata": {
    "colab": {
      "name": "Quick_Sort.ipynb",
      "provenance": [],
      "authorship_tag": "ABX9TyMmuSUqKvY9MCb4SZVO5vrB",
      "include_colab_link": true
    },
    "kernelspec": {
      "name": "python3",
      "display_name": "Python 3"
    }
  },
  "cells": [
    {
      "cell_type": "markdown",
      "metadata": {
        "id": "view-in-github",
        "colab_type": "text"
      },
      "source": [
        "<a href=\"https://colab.research.google.com/github/amirrezasokhankhosh/Quick_Sort/blob/master/Quick_Sort.ipynb\" target=\"_parent\"><img src=\"https://colab.research.google.com/assets/colab-badge.svg\" alt=\"Open In Colab\"/></a>"
      ]
    },
    {
      "cell_type": "markdown",
      "metadata": {
        "id": "TAIGJT8krQ1z"
      },
      "source": [
        "# Quick Sort\r\n",
        "Quick sort is a randomized sorting algorithm that use divide and conquer approuch to solve the sorting problem.\r\n",
        "\r\n",
        "Quick sort , solved the problem by choosing an element of the array as **pivot**.\r\n",
        "\r\n",
        "So what's a pivot:\r\n",
        "A pivot is an element of the given array that we use it to seperate the array to 2 smaller arrays:\r\n",
        "1. for elements that are smaller than the pivot.\r\n",
        "2. another for elements that are bigger\r\n",
        "\r\n",
        "So what if we could somehow sort these arrays?\r\n",
        "on that case we will only need to gather these arrays and the pivot together:\r\n",
        "\r\n",
        "`left_array + [pivot] + right_array`\r\n",
        "\r\n",
        "and also we know that an array with only 1 element is sorted.\r\n",
        "\r\n",
        "So we use divide and conquer approuch to solve it :"
      ]
    },
    {
      "cell_type": "code",
      "metadata": {
        "id": "Bxu9TxNFtXMV"
      },
      "source": [
        "def quick_sort(array):\r\n",
        "    if len(array) == 1 or len(array) == 0:\r\n",
        "        return array\r\n",
        "    pivot = array[random.randint(0, len(array))]\r\n",
        "    left_array = []\r\n",
        "    right_array = []\r\n",
        "    for element in array:\r\n",
        "        if element < pivot:\r\n",
        "            left_array.append(element)\r\n",
        "        elif element > pivot:\r\n",
        "            right_array.append(element)\r\n",
        "    left_sorted = quick_sort(left_array)\r\n",
        "    right_sorted = quick_sort(right_array)\r\n",
        "    return left_sorted + [pivot] + right_sorted"
      ],
      "execution_count": null,
      "outputs": []
    }
  ]
}